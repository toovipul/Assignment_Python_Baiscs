{
  "nbformat": 4,
  "nbformat_minor": 0,
  "metadata": {
    "colab": {
      "provenance": []
    },
    "kernelspec": {
      "name": "python3",
      "display_name": "Python 3"
    },
    "language_info": {
      "name": "python"
    }
  },
  "cells": [
    {
      "cell_type": "markdown",
      "source": [
        " **1.Explain the key features of Python that make it a popular choice for programming**\n",
        "\n",
        "Answer:\n",
        "\n",
        "1. Python is a popular choice for beginners because of its simple syntax, readability, and supportive community:\n",
        "2. Simple syntax: Python has a clean and simple syntax that's easy to understand and follow.\n",
        "3. Readability: Python's code is easy to read, even for non-programmers.\n",
        "Open source: Python is open source, which means there's a large ecosystem of libraries and frameworks to help you code.\n",
        "4. Supportive community: Python has a large and active community that's always ready to help.\n",
        "5. Interpreted: Python's interpreted nature allows for an interactive and flexible approach to coding, which is great for rapid development and troubleshooting.\n",
        "6. Cross-platform: Python is a cross-platform language, so you can run it on multiple operating systems, including Windows, mac os, and Linux.\n",
        "7. Python is a general-purpose language that can be used to create a wide variety of applications. It's also used for rapid prototyping and development of software applications.\n",
        "\n",
        "\n",
        "\n"
      ],
      "metadata": {
        "id": "4njz2_H80enU"
      }
    },
    {
      "cell_type": "markdown",
      "source": [
        "**2. Describe the role of predefined keywords in Python and provide examples of how they are used in a program**\n",
        "\n",
        "Answer:\n",
        "\n",
        "In Python, predefined keywords are special reserved words that have a specific meaning within the language and are used to define the structure and functionality of your code. They act like building blocks for constructing different parts of your program, like loops, conditional statements, and function definitions. You cannot use these keywords as variable names or for any other purpose other than their designated function.\n",
        "Key points about Python keywords:\n",
        "Reserved: You cannot use them as variable names or function names.\n",
        "Case-sensitive: \"if\" is different from \"IF\" or \"If\".\n",
        "Essential for syntax: They are necessary to write valid Python code.\n"
      ],
      "metadata": {
        "id": "w1LQQhi43L2U"
      }
    },
    {
      "cell_type": "code",
      "source": [
        "#Example keywords and their uses 1:\n",
        "#print: Used to display output on the screen.\n",
        "print(\"Hello World\")"
      ],
      "metadata": {
        "colab": {
          "base_uri": "https://localhost:8080/"
        },
        "collapsed": true,
        "id": "brtqBaq446_b",
        "outputId": "e6799c06-4c41-473b-e13c-60f65fdfca5f"
      },
      "execution_count": null,
      "outputs": [
        {
          "output_type": "stream",
          "name": "stdout",
          "text": [
            "Hello World\n"
          ]
        }
      ]
    },
    {
      "cell_type": "code",
      "source": [
        "#Example keywords and their uses 2:\n",
        "#if , elif, else: Used for conditional statements to execute different blocks of code based on whether a condition is true or false.\n",
        "age = 20\n",
        "if age >= 18:\n",
        "  print(\"You are eligible to vote.\")\n",
        "else:\n",
        "  print(\"You are not eligible to vote.\")"
      ],
      "metadata": {
        "colab": {
          "base_uri": "https://localhost:8080/"
        },
        "collapsed": true,
        "id": "ilUZBQ1s3x1z",
        "outputId": "59cc262c-abf5-4a72-d0de-12b28f2d40dc"
      },
      "execution_count": null,
      "outputs": [
        {
          "output_type": "stream",
          "name": "stdout",
          "text": [
            "You are eligible to vote.\n"
          ]
        }
      ]
    },
    {
      "cell_type": "code",
      "source": [
        "#Example keywords and their uses 3:\n",
        "#for: Used to iterate through a sequence of items (like a list) to perform an action on each item.\n",
        "fruits = [\"apple\", \"banana\", \"orange\"]\n",
        "for fruit in fruits:\n",
        "  print(fruit)"
      ],
      "metadata": {
        "colab": {
          "base_uri": "https://localhost:8080/"
        },
        "collapsed": true,
        "id": "yey3MM-G4X_X",
        "outputId": "8b606963-a653-49ad-e7b2-345873c58ea1"
      },
      "execution_count": null,
      "outputs": [
        {
          "output_type": "stream",
          "name": "stdout",
          "text": [
            "apple\n",
            "banana\n",
            "orange\n"
          ]
        }
      ]
    },
    {
      "cell_type": "markdown",
      "source": [
        "**3. Compare and contrast mutable and immutable objects in Python with examples**\n",
        "\n",
        "Answer:\n",
        "\n",
        "In Python, objects can be classified into two major categories: mutable and immutable. Here's a breakdown of their differences with examples:\n",
        "\n",
        "**Mutable Objects:**\n",
        "\n",
        "Definition: Mutable objects are those whose values can be changed after they are created.\n",
        "Examples: Lists, dictionaries, sets\n",
        "Behavior:\n",
        "Modifying a mutable object changes the object itself, without creating a new object.\n",
        "You can add, remove, or modify elements in place.\n",
        "\n",
        "**Immutable Objects:**\n",
        "\n",
        "Definition: Immutable objects are those whose values cannot be changed after they are created.\n",
        "Examples: Numbers (int, float), strings, tuples\n",
        "\n",
        "Behavior:\n",
        "Any operation that appears to modify an immutable object actually creates a new object with the modified value.\n"
      ],
      "metadata": {
        "id": "9RG7LZuM5tHm"
      }
    },
    {
      "cell_type": "code",
      "source": [
        "#Mutable Objects example\n",
        "my_list = [1, 2, 3]\n",
        "my_list.append(4)  # Modifies the original list\n",
        "print(my_list)"
      ],
      "metadata": {
        "colab": {
          "base_uri": "https://localhost:8080/"
        },
        "id": "dPRcut-76OHB",
        "outputId": "5cc62242-fbd6-421d-8277-7ec91efd3704"
      },
      "execution_count": null,
      "outputs": [
        {
          "output_type": "stream",
          "name": "stdout",
          "text": [
            "[1, 2, 3, 4]\n"
          ]
        }
      ]
    },
    {
      "cell_type": "code",
      "source": [
        "#Immutable Objects example\n",
        "my_string = \"Hello\"\n",
        "my_string += \" World\"  # Creates a new string\n",
        "print(my_string)"
      ],
      "metadata": {
        "colab": {
          "base_uri": "https://localhost:8080/"
        },
        "id": "MgTxD3lU7H5w",
        "outputId": "9eb671df-7536-4f9a-df40-cb0a456b2ce7"
      },
      "execution_count": null,
      "outputs": [
        {
          "output_type": "stream",
          "name": "stdout",
          "text": [
            "Hello World\n"
          ]
        }
      ]
    },
    {
      "cell_type": "markdown",
      "source": [
        "**4.Discuss the different types of operators in Python and provide examples of how they are used**\n",
        "\n",
        "Answer:\n",
        "\n",
        "\n",
        "In Python,Operators are used to perform operations on variables and value.\n",
        "Here are some types of operators in Python and how they are used:\n",
        "\n",
        "Assignment operators: The most common operator in Python, used to set two variables equal to each other. For example, =.\n",
        "\n",
        "Logical operators: Used to make decisions based on multiple conditions. The logical operators in Python are and, or, and not.\n",
        "\n",
        "Comparison operators: Also called relational operators, these are used to compare values and control the flow of a Python program. For example, 5 > 3 < 1 results in False.\n",
        "\n",
        "Identity operators: Used to determine if two variables point to the same object in memory.\n",
        "\n",
        "Membership operators: Used to check if a value or variable exists in a sequence, such as a string, list, tuple or set.\n",
        "\n",
        "Arithmetic operators: Used to perform mathematical operations in Python.\n",
        "\n",
        "+=\t\tAddition Assignment\t\ta += 5 (Same as a = a + 5)\n",
        "\n",
        "-=\t\tSubtraction Assignment\t\ta -= 5 (Same as a = a - 5)\n",
        "\n",
        "*=\t\tMultiplication Assignment\t\ta *= 5 (Same as a = a * 5)\n",
        "\n",
        "/=\t\tDivision Assignment\t\ta /= 5 (Same as a = a / 5)\n",
        "\n"
      ],
      "metadata": {
        "id": "_Iz1cay08BdB"
      }
    },
    {
      "cell_type": "markdown",
      "source": [
        "**5. Explain the concept of type casting in Python with examples**\n",
        "\n",
        "Answer:\n",
        "\n",
        "In Python,Type casting, also known as type conversion, is the process of changing the data type of a variable from one type to another.\n",
        "\n",
        "Types of Type Casting in Python:\n",
        "\n",
        "Implicit Type Casting: Python automatically performs this conversion without the programmer's intervention. This typically happens when you perform operations involving different data types, and Python tries to avoid data loss by converting to a more inclusive type.\n"
      ],
      "metadata": {
        "id": "33runfsA-eL6"
      }
    },
    {
      "cell_type": "code",
      "source": [
        "#Example Type casting 1\n",
        "#Explicit Type Casting: In this case, you explicitly instruct Python to convert the data type using predefined functions like int(), float(), str(), etc.\n",
        "x = \"10\"  # string\n",
        "\n",
        "y = int(x)  # explicit conversion of x to integer\n",
        "\n",
        "print(y)  # Output: 10\n",
        "print(type(y))  # Output: <class 'int'>"
      ],
      "metadata": {
        "colab": {
          "base_uri": "https://localhost:8080/"
        },
        "id": "jZNs3KzY_9qc",
        "outputId": "456e25d5-b462-4f88-d517-646152b5a472"
      },
      "execution_count": null,
      "outputs": [
        {
          "output_type": "stream",
          "name": "stdout",
          "text": [
            "10\n",
            "<class 'int'>\n"
          ]
        }
      ]
    },
    {
      "cell_type": "code",
      "source": [
        "#Example Type casting 2\n",
        "#Converting String to Integer.\n",
        "age = \"25\"\n",
        "age_int = int(age)\n",
        "print(age_int + 5)  # Output: 30"
      ],
      "metadata": {
        "colab": {
          "base_uri": "https://localhost:8080/"
        },
        "id": "dWlMTnRbAhoz",
        "outputId": "9a26bb74-9cf1-424b-b3d8-5f9db096577d"
      },
      "execution_count": null,
      "outputs": [
        {
          "output_type": "stream",
          "name": "stdout",
          "text": [
            "30\n"
          ]
        }
      ]
    },
    {
      "cell_type": "markdown",
      "source": [
        "**6.How do conditional statements work in python? illustrate with examples for beginner**\n",
        "\n",
        "Answer:\n",
        "\n",
        "Conditional statements in Python allow you to control the flow of your program based on certain conditions. Here's an explanation with examples:\n",
        "\n",
        "The if statement:\n",
        "The most basic conditional statement is the if statement. It checks if a condition is true and executes the code block indented below it if it is."
      ],
      "metadata": {
        "id": "u9NaSxHw4IjW"
      }
    },
    {
      "cell_type": "code",
      "source": [
        "#Example conditional statements 1\n",
        "#In this example, the condition x > 5 is true, so the code inside the if block is executed, printing \"x is greater than 5\"\n",
        "x = 10\n",
        "\n",
        "if x > 5:\n",
        "    print(\"x is greater than 5\")\n",
        "#In this example, the condition x > 5 is true, so the code inside the if block is executed, printing \"x is greater than 5\""
      ],
      "metadata": {
        "colab": {
          "base_uri": "https://localhost:8080/"
        },
        "id": "8MKpVA1w4diy",
        "outputId": "dd020324-d183-4a5c-dada-52e4d44fbdd7"
      },
      "execution_count": 1,
      "outputs": [
        {
          "output_type": "stream",
          "name": "stdout",
          "text": [
            "x is greater than 5\n"
          ]
        }
      ]
    },
    {
      "cell_type": "code",
      "source": [
        "#Example conditional statements 2 : The if-else statement:\n",
        "#The if-else statement allows you to execute one block of code if the condition is true, and another block if the condition is false.\n",
        "age = 17\n",
        "\n",
        "if age >= 18:\n",
        "    print(\"You can vote!\")\n",
        "else:\n",
        "    print(\"You are not eligible to vote yet.\")\n",
        "\n",
        "#In this case, the condition age >= 18 is false, so the code inside the else block is executed, printing \"You are not eligible to vote yet.\""
      ],
      "metadata": {
        "colab": {
          "base_uri": "https://localhost:8080/"
        },
        "id": "H8pBZ3Oq5Btq",
        "outputId": "8fddaa61-90dd-450d-cbef-f8123de7e192"
      },
      "execution_count": 5,
      "outputs": [
        {
          "output_type": "stream",
          "name": "stdout",
          "text": [
            "You are not eligible to vote yet.\n"
          ]
        }
      ]
    },
    {
      "cell_type": "code",
      "source": [
        "#Example conditional statements 3 The if-elif-else statement:\n",
        "num = 0\n",
        "\n",
        "if num > 0:\n",
        "    print(\"The number is positive.\")\n",
        "elif num < 0:\n",
        "    print(\"The number is negative.\")\n",
        "else:\n",
        "    print(\"The number is zero.\")\n",
        "#In this case, the condition num > 0 is false, so the code inside the first elif block is executed, printing \"The number is negative.\""
      ],
      "metadata": {
        "colab": {
          "base_uri": "https://localhost:8080/"
        },
        "id": "UWLiciUH5dwx",
        "outputId": "77f8df12-c806-46c2-8463-379edcb01bc6"
      },
      "execution_count": 4,
      "outputs": [
        {
          "output_type": "stream",
          "name": "stdout",
          "text": [
            "The number is zero.\n"
          ]
        }
      ]
    },
    {
      "cell_type": "markdown",
      "source": [
        "**7.Describe the different types of loops in Python and their use cases with examples.**\n",
        "\n",
        "Answer:\n",
        "\n",
        "Python has two primitive loop commands:\n",
        "\n",
        "while loops\n",
        "for loops\n",
        "\n",
        "A for loop is used for iterating over a sequence (that is either a list, a tuple, a dictionary, a set, or a string).\n",
        "\n",
        "This is less like the for keyword in other programming languages, and works more like an iterator method as found in other object-orientated programming languages.\n",
        "\n",
        "With the for loop we can execute a set of statements, once for each item in a list, tuple, set etc.\n"
      ],
      "metadata": {
        "id": "zWMQdig46DSg"
      }
    },
    {
      "cell_type": "code",
      "source": [
        "#Example For for loops:1\n",
        "fruits = [\"apple\", \"banana\", \"cherry\"]\n",
        "for fruit in fruits:\n",
        "  print(fruit)\n",
        ""
      ],
      "metadata": {
        "colab": {
          "base_uri": "https://localhost:8080/"
        },
        "id": "txYC92iy7M0Z",
        "outputId": "02d9cbde-2b63-4317-f7fd-973472a66a8f"
      },
      "execution_count": 8,
      "outputs": [
        {
          "output_type": "stream",
          "name": "stdout",
          "text": [
            "apple\n",
            "banana\n",
            "cherry\n"
          ]
        }
      ]
    },
    {
      "cell_type": "code",
      "source": [
        "#Example For for loops:2\n",
        "for i in range(5):\n",
        "  print(i)"
      ],
      "metadata": {
        "colab": {
          "base_uri": "https://localhost:8080/"
        },
        "collapsed": true,
        "id": "5FVd4uK37ysu",
        "outputId": "612d3e89-ed0b-4057-d8b9-da5c78c581a3"
      },
      "execution_count": 9,
      "outputs": [
        {
          "output_type": "stream",
          "name": "stdout",
          "text": [
            "0\n",
            "1\n",
            "2\n",
            "3\n",
            "4\n"
          ]
        }
      ]
    },
    {
      "cell_type": "markdown",
      "source": [
        "The while Loop\n",
        "\n",
        "With the while loop we can execute a set of statements as long as a condition is true.\n",
        "\n",
        "Use case: Repeating a block of code as long as a condition remains true.\n"
      ],
      "metadata": {
        "id": "2iQOBew08Tjs"
      }
    },
    {
      "cell_type": "code",
      "source": [
        "#Example For while loops:1\n",
        "count = 0\n",
        "while count < 5:\n",
        "  print(count)\n",
        "  count += 1\n",
        "\n",
        "#This loop prints the numbers 0 through 4. It continues executing as long as the count variable is less than 5."
      ],
      "metadata": {
        "colab": {
          "base_uri": "https://localhost:8080/"
        },
        "collapsed": true,
        "id": "S1WDvpUr8gOP",
        "outputId": "ae6f89cc-9849-4ae6-f2f9-63c15eff2611"
      },
      "execution_count": 11,
      "outputs": [
        {
          "output_type": "stream",
          "name": "stdout",
          "text": [
            "0\n",
            "1\n",
            "2\n",
            "3\n",
            "4\n"
          ]
        }
      ]
    }
  ]
}